{
  "nbformat": 4,
  "nbformat_minor": 0,
  "metadata": {
    "colab": {
      "provenance": []
    },
    "kernelspec": {
      "name": "python3",
      "display_name": "Python 3"
    },
    "language_info": {
      "name": "python"
    }
  },
  "cells": [
    {
      "cell_type": "code",
      "execution_count": 2,
      "metadata": {
        "colab": {
          "base_uri": "https://localhost:8080/",
          "height": 35
        },
        "id": "Jrsc0zfkUS8n",
        "outputId": "b9b9114c-b1ad-4db8-ae50-2c9d9df9da5d"
      },
      "outputs": [
        {
          "output_type": "execute_result",
          "data": {
            "text/plain": [
              "'税込み金額は121.0です'"
            ],
            "application/vnd.google.colaboratory.intrinsic+json": {
              "type": "string"
            }
          },
          "metadata": {},
          "execution_count": 2
        }
      ],
      "source": [
        "# 商品代金として価格と消費税を設定\n",
        "def product_prices(price, tax):\n",
        "  # 税込み金額を計算\n",
        "  total = price + (price * tax / 100)\n",
        "  # 税込み金額を出力\n",
        "  return f\"税込み金額は{total}です\"\n",
        "\n",
        "# 価格と税率を代入\n",
        "product_prices(110, 10)"
      ]
    }
  ]
}