{
  "nbformat": 4,
  "nbformat_minor": 0,
  "metadata": {
    "colab": {
      "provenance": []
    },
    "kernelspec": {
      "name": "python3",
      "display_name": "Python 3"
    },
    "language_info": {
      "name": "python"
    }
  },
  "cells": [
    {
      "cell_type": "code",
      "execution_count": 1,
      "metadata": {
        "colab": {
          "base_uri": "https://localhost:8080/"
        },
        "id": "Jrsc0zfkUS8n",
        "outputId": "27c715fa-af33-42ef-e0d6-a8d6405459dd"
      },
      "outputs": [
        {
          "output_type": "stream",
          "name": "stdout",
          "text": [
            "税込み金額は121.0です\n"
          ]
        }
      ],
      "source": [
        "# 商品代金として価格と消費税を設定\n",
        "def product_prices(price, tax):\n",
        "  # 税込み金額を計算\n",
        "  total = price + (price * tax / 100)\n",
        "  # 税込み金額を出力\n",
        "  print(f\"税込み金額は{total}です\")\n",
        "\n",
        "# 価格と税率を代入\n",
        "product_prices(110, 10)"
      ]
    }
  ]
}