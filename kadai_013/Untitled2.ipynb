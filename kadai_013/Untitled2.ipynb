{
  "nbformat": 4,
  "nbformat_minor": 0,
  "metadata": {
    "colab": {
      "provenance": []
    },
    "kernelspec": {
      "name": "python3",
      "display_name": "Python 3"
    },
    "language_info": {
      "name": "python"
    }
  },
  "cells": [
    {
      "cell_type": "code",
      "execution_count": 4,
      "metadata": {
        "colab": {
          "base_uri": "https://localhost:8080/"
        },
        "id": "Jrsc0zfkUS8n",
        "outputId": "f2fb641a-8083-4fdd-d074-231cb96c91c5"
      },
      "outputs": [
        {
          "output_type": "stream",
          "name": "stdout",
          "text": [
            "税込金額は121.0円です。\n"
          ]
        }
      ],
      "source": [
        "# 関数を定義\n",
        "def calc_tax(price: float, tax_rate: float) -> float:\n",
        "    \"\"\"\n",
        "    商品金額と消費税率をもとに、税込金額を計算して返す関数\n",
        "    :param price: 商品の金額（税抜）\n",
        "    :param tax_rate: 消費税率（%）\n",
        "    :return: 税込み金額（小数点を含む）\n",
        "    \"\"\"\n",
        "    result = price + (price * tax_rate / 100)\n",
        "    return result  # 小数点をそのまま返す\n",
        "\n",
        "\n",
        "# 価格と税率を代入\n",
        "price = 110\n",
        "tax_rate = 10\n",
        "total = calc_tax(price, tax_rate)\n",
        "\n",
        "print(f\"税込金額は{total}円です。\")"
      ]
    }
  ]
}