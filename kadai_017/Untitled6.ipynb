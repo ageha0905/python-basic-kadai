{
  "nbformat": 4,
  "nbformat_minor": 0,
  "metadata": {
    "colab": {
      "provenance": []
    },
    "kernelspec": {
      "name": "python3",
      "display_name": "Python 3"
    },
    "language_info": {
      "name": "python"
    }
  },
  "cells": [
    {
      "cell_type": "code",
      "execution_count": 2,
      "metadata": {
        "colab": {
          "base_uri": "https://localhost:8080/"
        },
        "id": "Yzcn8C9AqScz",
        "outputId": "ed5a4ca4-c49b-4800-c374-f217247548c3"
      },
      "outputs": [
        {
          "output_type": "stream",
          "name": "stdout",
          "text": [
            "侍太郎さんは大人です。\n",
            "侍花子さんは大人ではありません。\n",
            "侍一郎さんは大人です。\n"
          ]
        }
      ],
      "source": [
        "class Human:\n",
        "  # コンストラクタ（初期化）\n",
        "  def __init__(self, name, age):\n",
        "    self.name = name\n",
        "    self.age = age\n",
        "\n",
        "  # 年齢をチェックして大人かどうかを出力\n",
        "  def check_adult(self):\n",
        "    if self.age >= 20:\n",
        "      print(f\"{self.name}さんは大人です。\")\n",
        "    else:\n",
        "      print(f\"{self.name}さんは大人ではありません。\")\n",
        "# Humanクラスのインスタンスを複数作成\n",
        "human_list = [\n",
        "    Human(\"侍太郎\",36),\n",
        "    Human(\"侍花子\",18),\n",
        "    Human(\"侍一郎\",20)\n",
        "]\n",
        "\n",
        "# リストの要素分だけcheck_adultリストを呼び出す\n",
        "for human in human_list:\n",
        "  human.check_adult()"
      ]
    }
  ]
}