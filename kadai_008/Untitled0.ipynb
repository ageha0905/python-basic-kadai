{
  "cells": [
    {
      "cell_type": "code",
      "execution_count": 36,
      "metadata": {
        "colab": {
          "base_uri": "https://localhost:8080/"
        },
        "id": "CbADdTO4An4F",
        "outputId": "497d375b-a05d-486f-d555-6e3cd1680a89"
      },
      "outputs": [
        {
          "name": "stdout",
          "output_type": "stream",
          "text": [
            "Buzz\n"
          ]
        }
      ],
      "source": [
        "# 0～30までのrandomな数字を代入\n",
        "import random\n",
        "Var = random.randint(0, 30)\n",
        "\n",
        "# 3または5の時FizzBuzzと出力\n",
        "if Var % 3 == 0 and Var % 5 == 0:\n",
        "    print(\"FizzBuzz\")\n",
        "\n",
        "# 3の倍数の時Fizzと出力\n",
        "elif Var % 3 == 0:\n",
        "    print(\"Fizz\")\n",
        "\n",
        "# 5の倍数の時Buzzと出力\n",
        "elif Var % 5 == 0:\n",
        "    print(\"Buzz\")\n",
        "\n",
        "# その他の場合は変数Varの値を出力\n",
        "else:\n",
        "    print(Var)\n"
      ]
    }
  ],
  "metadata": {
    "colab": {
      "provenance": []
    },
    "kernelspec": {
      "display_name": "Python 3",
      "name": "python3"
    },
    "language_info": {
      "name": "python"
    }
  },
  "nbformat": 4,
  "nbformat_minor": 0
}
