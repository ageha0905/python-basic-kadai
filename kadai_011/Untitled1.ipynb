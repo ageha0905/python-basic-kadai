{
  "nbformat": 4,
  "nbformat_minor": 0,
  "metadata": {
    "colab": {
      "provenance": []
    },
    "kernelspec": {
      "name": "python3",
      "display_name": "Python 3"
    },
    "language_info": {
      "name": "python"
    }
  },
  "cells": [
    {
      "cell_type": "code",
      "execution_count": 7,
      "metadata": {
        "colab": {
          "base_uri": "https://localhost:8080/"
        },
        "id": "4xZx0J_OmBLo",
        "outputId": "2354db8e-700f-45dd-8569-c344dd8d57fa"
      },
      "outputs": [
        {
          "output_type": "stream",
          "name": "stdout",
          "text": [
            "水\n",
            "金\n",
            "地\n",
            "火\n",
            "木\n",
            "土\n",
            "天\n",
            "海\n",
            "冥\n",
            "水\n",
            "金\n",
            "地\n",
            "火\n",
            "木\n",
            "土\n",
            "天\n",
            "海\n",
            "冥\n"
          ]
        }
      ],
      "source": [
        "# リストを設定\n",
        "planets = [\"水\",\"金\",\"地\",\"火\",\"木\",\"土\",\"天\",\"海\",\"冥\"]\n",
        "\n",
        "# for文でリストの内容を順番に出力\n",
        "for planet in planets:\n",
        "  print(planet)\n",
        "\n",
        "# 変数iを0からスタート\n",
        "i = 0\n",
        "# while文でリストの個数を確認し、その個数の回数出力\n",
        "while i < len(planets):\n",
        "  print(planets[i])\n",
        "  # カウントを1ずつ増やす\n",
        "  i = i + 1"
      ]
    }
  ]
}