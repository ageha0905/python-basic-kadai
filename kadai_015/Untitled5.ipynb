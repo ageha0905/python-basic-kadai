{
  "nbformat": 4,
  "nbformat_minor": 0,
  "metadata": {
    "colab": {
      "provenance": []
    },
    "kernelspec": {
      "name": "python3",
      "display_name": "Python 3"
    },
    "language_info": {
      "name": "python"
    }
  },
  "cells": [
    {
      "cell_type": "code",
      "execution_count": 4,
      "metadata": {
        "colab": {
          "base_uri": "https://localhost:8080/"
        },
        "id": "hV-agGAeHayu",
        "outputId": "15d065bc-16d9-4cc2-e50d-81172a39982f"
      },
      "outputs": [
        {
          "output_type": "stream",
          "name": "stdout",
          "text": [
            "名前：侍太郎\n",
            "年齢：36歳\n"
          ]
        }
      ],
      "source": [
        "class Human:\n",
        "  def __init__(self, name, age):\n",
        "    self.name = name\n",
        "    self.age = age\n",
        "  # 名前と年齢情報を出力する関数\n",
        "  def printinfo(self):\n",
        "    print(f\"名前：{self.name}\")\n",
        "    print(f\"年齢：{self.age}歳\")\n",
        "# Humanクラスのインスタンスを作る\n",
        "human = Human (\"侍太郎\", 36)\n",
        "# 関数を呼び出す\n",
        "human.printinfo()"
      ]
    }
  ]
}