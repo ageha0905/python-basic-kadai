{
  "cells": [
    {
      "cell_type": "code",
      "execution_count": 9,
      "metadata": {
        "colab": {
          "base_uri": "https://localhost:8080/"
        },
        "id": "GPcVn-dJXTgg",
        "outputId": "943ecc88-21b5-489e-8005-900a192dfdc3"
      },
      "outputs": [
        {
          "name": "stdout",
          "output_type": "stream",
          "text": [
            "台形の面積は75.0㎠です\n"
          ]
        }
      ],
      "source": [
        "up_length = 10\n",
        "down_length = 20\n",
        "high = 5\n",
        "\n",
        "#台形の面積を計算する\n",
        "area = (up_length + down_length) * 5 / 2\n",
        "\n",
        "#結果を表示\n",
        "print (f\"台形の面積は{area}㎠です\")\n"
      ]
    }
  ],
  "metadata": {
    "colab": {
      "provenance": []
    },
    "kernelspec": {
      "display_name": "Python 3",
      "name": "python3"
    },
    "language_info": {
      "name": "python"
    }
  },
  "nbformat": 4,
  "nbformat_minor": 0
}
